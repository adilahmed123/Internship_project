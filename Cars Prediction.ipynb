{
 "cells": [
  {
   "cell_type": "code",
   "execution_count": 46,
   "id": "c727146f",
   "metadata": {},
   "outputs": [],
   "source": [
    "# Importing required libraries\n",
    "import pandas as pd \n",
    "import numpy as np\n",
    "from sklearn.model_selection import train_test_split\n",
    "from sklearn.model_selection import GridSearchCV\n",
    "from sklearn.feature_selection import SelectKBest,f_classif\n",
    "from sklearn.linear_model import LinearRegression\n",
    "from sklearn.tree import DecisionTreeClassifier,DecisionTreeRegressor\n",
    "from sklearn.neighbors import KNeighborsRegressor\n",
    "from sklearn.metrics import mean_squared_error , mean_absolute_error\n",
    "from sklearn.linear_model import Ridge,Lasso,RidgeCV,LassoCV\n",
    "from sklearn.preprocessing import StandardScaler\n",
    "from sklearn.model_selection import KFold,cross_val_score\n",
    "from sklearn.preprocessing import LabelEncoder\n",
    "from statsmodels.stats.outliers_influence import variance_inflation_factor\n",
    "from sklearn.metrics import accuracy_score, confusion_matrix, roc_curve, roc_auc_score,classification_report\n",
    "import seaborn as sns\n",
    "import matplotlib.pyplot as plt\n",
    "import warnings\n",
    "warnings.filterwarnings('ignore')"
   ]
  },
  {
   "cell_type": "code",
   "execution_count": 2,
   "id": "38a0a53f",
   "metadata": {},
   "outputs": [
    {
     "data": {
      "text/html": [
       "<div>\n",
       "<style scoped>\n",
       "    .dataframe tbody tr th:only-of-type {\n",
       "        vertical-align: middle;\n",
       "    }\n",
       "\n",
       "    .dataframe tbody tr th {\n",
       "        vertical-align: top;\n",
       "    }\n",
       "\n",
       "    .dataframe thead th {\n",
       "        text-align: right;\n",
       "    }\n",
       "</style>\n",
       "<table border=\"1\" class=\"dataframe\">\n",
       "  <thead>\n",
       "    <tr style=\"text-align: right;\">\n",
       "      <th></th>\n",
       "      <th>Unnamed: 0</th>\n",
       "      <th>Location</th>\n",
       "      <th>Year</th>\n",
       "      <th>Brand</th>\n",
       "      <th>Car_model</th>\n",
       "      <th>Engine</th>\n",
       "      <th>Transmission</th>\n",
       "      <th>Kilometer</th>\n",
       "      <th>Owner</th>\n",
       "      <th>Fuel</th>\n",
       "      <th>EMI</th>\n",
       "      <th>Price</th>\n",
       "      <th>Unnamed: 12</th>\n",
       "      <th>Unnamed: 13</th>\n",
       "    </tr>\n",
       "  </thead>\n",
       "  <tbody>\n",
       "    <tr>\n",
       "      <th>0</th>\n",
       "      <td>0</td>\n",
       "      <td>New Delhi</td>\n",
       "      <td>2012</td>\n",
       "      <td>Ford</td>\n",
       "      <td>Fiesta</td>\n",
       "      <td>IV</td>\n",
       "      <td>Manual</td>\n",
       "      <td>68356</td>\n",
       "      <td>2nd Owner</td>\n",
       "      <td>Diesel</td>\n",
       "      <td>5808</td>\n",
       "      <td>261099</td>\n",
       "      <td>NaN</td>\n",
       "      <td>NaN</td>\n",
       "    </tr>\n",
       "    <tr>\n",
       "      <th>1</th>\n",
       "      <td>1</td>\n",
       "      <td>New Delhi</td>\n",
       "      <td>2012</td>\n",
       "      <td>Maruti</td>\n",
       "      <td>Swift</td>\n",
       "      <td>IV</td>\n",
       "      <td>Manual</td>\n",
       "      <td>126803</td>\n",
       "      <td>1st Owner</td>\n",
       "      <td>Diesel</td>\n",
       "      <td>6097</td>\n",
       "      <td>274099</td>\n",
       "      <td>NaN</td>\n",
       "      <td>NaN</td>\n",
       "    </tr>\n",
       "    <tr>\n",
       "      <th>2</th>\n",
       "      <td>2</td>\n",
       "      <td>New Delhi</td>\n",
       "      <td>2017</td>\n",
       "      <td>Ford</td>\n",
       "      <td>New</td>\n",
       "      <td>TREND</td>\n",
       "      <td>Manual</td>\n",
       "      <td>3430</td>\n",
       "      <td>1st Owner</td>\n",
       "      <td>Petrol</td>\n",
       "      <td>10272</td>\n",
       "      <td>461799</td>\n",
       "      <td>NaN</td>\n",
       "      <td>NaN</td>\n",
       "    </tr>\n",
       "    <tr>\n",
       "      <th>3</th>\n",
       "      <td>3</td>\n",
       "      <td>New Delhi</td>\n",
       "      <td>2013</td>\n",
       "      <td>Maruti</td>\n",
       "      <td>Swift</td>\n",
       "      <td>IV</td>\n",
       "      <td>Manual</td>\n",
       "      <td>105088</td>\n",
       "      <td>1st Owner</td>\n",
       "      <td>Petrol</td>\n",
       "      <td>7879</td>\n",
       "      <td>354199</td>\n",
       "      <td>NaN</td>\n",
       "      <td>NaN</td>\n",
       "    </tr>\n",
       "    <tr>\n",
       "      <th>4</th>\n",
       "      <td>4</td>\n",
       "      <td>New Delhi</td>\n",
       "      <td>2012</td>\n",
       "      <td>Maruti</td>\n",
       "      <td>Swift</td>\n",
       "      <td>ZXI</td>\n",
       "      <td>Manual</td>\n",
       "      <td>70990</td>\n",
       "      <td>1st Owner</td>\n",
       "      <td>Petrol</td>\n",
       "      <td>9527</td>\n",
       "      <td>428299</td>\n",
       "      <td>NaN</td>\n",
       "      <td>NaN</td>\n",
       "    </tr>\n",
       "  </tbody>\n",
       "</table>\n",
       "</div>"
      ],
      "text/plain": [
       "   Unnamed: 0   Location  Year   Brand Car_model Engine Transmission  \\\n",
       "0           0  New Delhi  2012    Ford    Fiesta     IV       Manual   \n",
       "1           1  New Delhi  2012  Maruti     Swift     IV       Manual   \n",
       "2           2  New Delhi  2017    Ford       New  TREND       Manual   \n",
       "3           3  New Delhi  2013  Maruti     Swift     IV       Manual   \n",
       "4           4  New Delhi  2012  Maruti     Swift    ZXI       Manual   \n",
       "\n",
       "   Kilometer      Owner    Fuel    EMI   Price  Unnamed: 12 Unnamed: 13  \n",
       "0      68356  2nd Owner  Diesel   5808  261099          NaN         NaN  \n",
       "1     126803  1st Owner  Diesel   6097  274099          NaN         NaN  \n",
       "2       3430  1st Owner  Petrol  10272  461799          NaN         NaN  \n",
       "3     105088  1st Owner  Petrol   7879  354199          NaN         NaN  \n",
       "4      70990  1st Owner  Petrol   9527  428299          NaN         NaN  "
      ]
     },
     "execution_count": 2,
     "metadata": {},
     "output_type": "execute_result"
    }
   ],
   "source": [
    "df= pd.read_excel(\"E:\\Data set\\CarsPrediction 2.xlsx\")\n",
    "df.head()"
   ]
  },
  {
   "cell_type": "code",
   "execution_count": 3,
   "id": "192c27a2",
   "metadata": {},
   "outputs": [
    {
     "name": "stdout",
     "output_type": "stream",
     "text": [
      "<class 'pandas.core.frame.DataFrame'>\n",
      "RangeIndex: 4881 entries, 0 to 4880\n",
      "Data columns (total 14 columns):\n",
      " #   Column        Non-Null Count  Dtype  \n",
      "---  ------        --------------  -----  \n",
      " 0   Unnamed: 0    4881 non-null   int64  \n",
      " 1   Location      4881 non-null   object \n",
      " 2   Year          4881 non-null   int64  \n",
      " 3   Brand         4881 non-null   object \n",
      " 4   Car_model     4881 non-null   object \n",
      " 5   Engine        4881 non-null   object \n",
      " 6   Transmission  4881 non-null   object \n",
      " 7   Kilometer     4881 non-null   int64  \n",
      " 8   Owner         4881 non-null   object \n",
      " 9   Fuel          4881 non-null   object \n",
      " 10  EMI           4881 non-null   int64  \n",
      " 11  Price         4881 non-null   int64  \n",
      " 12  Unnamed: 12   0 non-null      float64\n",
      " 13  Unnamed: 13   2 non-null      object \n",
      "dtypes: float64(1), int64(5), object(8)\n",
      "memory usage: 534.0+ KB\n"
     ]
    }
   ],
   "source": [
    "df.info()"
   ]
  },
  {
   "cell_type": "code",
   "execution_count": 4,
   "id": "10d66290",
   "metadata": {},
   "outputs": [
    {
     "data": {
      "text/plain": [
       "(4881, 14)"
      ]
     },
     "execution_count": 4,
     "metadata": {},
     "output_type": "execute_result"
    }
   ],
   "source": [
    "df.shape"
   ]
  },
  {
   "cell_type": "code",
   "execution_count": 5,
   "id": "b53c49e5",
   "metadata": {},
   "outputs": [
    {
     "data": {
      "text/plain": [
       "Unnamed: 0         0\n",
       "Location           0\n",
       "Year               0\n",
       "Brand              0\n",
       "Car_model          0\n",
       "Engine             0\n",
       "Transmission       0\n",
       "Kilometer          0\n",
       "Owner              0\n",
       "Fuel               0\n",
       "EMI                0\n",
       "Price              0\n",
       "Unnamed: 12     4881\n",
       "Unnamed: 13     4879\n",
       "dtype: int64"
      ]
     },
     "execution_count": 5,
     "metadata": {},
     "output_type": "execute_result"
    }
   ],
   "source": [
    "df.isna().sum()"
   ]
  },
  {
   "cell_type": "code",
   "execution_count": 6,
   "id": "d3c2064c",
   "metadata": {},
   "outputs": [
    {
     "data": {
      "text/html": [
       "<div>\n",
       "<style scoped>\n",
       "    .dataframe tbody tr th:only-of-type {\n",
       "        vertical-align: middle;\n",
       "    }\n",
       "\n",
       "    .dataframe tbody tr th {\n",
       "        vertical-align: top;\n",
       "    }\n",
       "\n",
       "    .dataframe thead th {\n",
       "        text-align: right;\n",
       "    }\n",
       "</style>\n",
       "<table border=\"1\" class=\"dataframe\">\n",
       "  <thead>\n",
       "    <tr style=\"text-align: right;\">\n",
       "      <th></th>\n",
       "      <th>Unnamed: 0</th>\n",
       "      <th>Year</th>\n",
       "      <th>Kilometer</th>\n",
       "      <th>EMI</th>\n",
       "      <th>Price</th>\n",
       "      <th>Unnamed: 12</th>\n",
       "    </tr>\n",
       "  </thead>\n",
       "  <tbody>\n",
       "    <tr>\n",
       "      <th>count</th>\n",
       "      <td>4881.000000</td>\n",
       "      <td>4881.000000</td>\n",
       "      <td>4881.000000</td>\n",
       "      <td>4881.000000</td>\n",
       "      <td>4.881000e+03</td>\n",
       "      <td>0.0</td>\n",
       "    </tr>\n",
       "    <tr>\n",
       "      <th>mean</th>\n",
       "      <td>293.580824</td>\n",
       "      <td>2016.320631</td>\n",
       "      <td>45909.972547</td>\n",
       "      <td>13112.705593</td>\n",
       "      <td>5.894820e+05</td>\n",
       "      <td>NaN</td>\n",
       "    </tr>\n",
       "    <tr>\n",
       "      <th>std</th>\n",
       "      <td>199.825992</td>\n",
       "      <td>2.312617</td>\n",
       "      <td>33048.894727</td>\n",
       "      <td>6670.669116</td>\n",
       "      <td>2.998799e+05</td>\n",
       "      <td>NaN</td>\n",
       "    </tr>\n",
       "    <tr>\n",
       "      <th>min</th>\n",
       "      <td>0.000000</td>\n",
       "      <td>2007.000000</td>\n",
       "      <td>58.000000</td>\n",
       "      <td>2678.000000</td>\n",
       "      <td>1.203990e+05</td>\n",
       "      <td>NaN</td>\n",
       "    </tr>\n",
       "    <tr>\n",
       "      <th>25%</th>\n",
       "      <td>122.000000</td>\n",
       "      <td>2015.000000</td>\n",
       "      <td>22276.000000</td>\n",
       "      <td>8864.000000</td>\n",
       "      <td>3.984990e+05</td>\n",
       "      <td>NaN</td>\n",
       "    </tr>\n",
       "    <tr>\n",
       "      <th>50%</th>\n",
       "      <td>262.000000</td>\n",
       "      <td>2017.000000</td>\n",
       "      <td>38808.000000</td>\n",
       "      <td>11436.000000</td>\n",
       "      <td>5.140990e+05</td>\n",
       "      <td>NaN</td>\n",
       "    </tr>\n",
       "    <tr>\n",
       "      <th>75%</th>\n",
       "      <td>448.000000</td>\n",
       "      <td>2018.000000</td>\n",
       "      <td>61424.000000</td>\n",
       "      <td>15168.000000</td>\n",
       "      <td>6.818990e+05</td>\n",
       "      <td>NaN</td>\n",
       "    </tr>\n",
       "    <tr>\n",
       "      <th>max</th>\n",
       "      <td>767.000000</td>\n",
       "      <td>2021.000000</td>\n",
       "      <td>277105.000000</td>\n",
       "      <td>79119.000000</td>\n",
       "      <td>3.556799e+06</td>\n",
       "      <td>NaN</td>\n",
       "    </tr>\n",
       "  </tbody>\n",
       "</table>\n",
       "</div>"
      ],
      "text/plain": [
       "        Unnamed: 0         Year      Kilometer           EMI         Price  \\\n",
       "count  4881.000000  4881.000000    4881.000000   4881.000000  4.881000e+03   \n",
       "mean    293.580824  2016.320631   45909.972547  13112.705593  5.894820e+05   \n",
       "std     199.825992     2.312617   33048.894727   6670.669116  2.998799e+05   \n",
       "min       0.000000  2007.000000      58.000000   2678.000000  1.203990e+05   \n",
       "25%     122.000000  2015.000000   22276.000000   8864.000000  3.984990e+05   \n",
       "50%     262.000000  2017.000000   38808.000000  11436.000000  5.140990e+05   \n",
       "75%     448.000000  2018.000000   61424.000000  15168.000000  6.818990e+05   \n",
       "max     767.000000  2021.000000  277105.000000  79119.000000  3.556799e+06   \n",
       "\n",
       "       Unnamed: 12  \n",
       "count          0.0  \n",
       "mean           NaN  \n",
       "std            NaN  \n",
       "min            NaN  \n",
       "25%            NaN  \n",
       "50%            NaN  \n",
       "75%            NaN  \n",
       "max            NaN  "
      ]
     },
     "execution_count": 6,
     "metadata": {},
     "output_type": "execute_result"
    }
   ],
   "source": [
    "df.describe()"
   ]
  },
  {
   "cell_type": "code",
   "execution_count": 7,
   "id": "fd362938",
   "metadata": {},
   "outputs": [],
   "source": [
    "df = df.drop(columns = ['Unnamed: 0','Unnamed: 12','Unnamed: 13'])"
   ]
  },
  {
   "cell_type": "code",
   "execution_count": 8,
   "id": "f819a572",
   "metadata": {},
   "outputs": [
    {
     "data": {
      "text/html": [
       "<div>\n",
       "<style scoped>\n",
       "    .dataframe tbody tr th:only-of-type {\n",
       "        vertical-align: middle;\n",
       "    }\n",
       "\n",
       "    .dataframe tbody tr th {\n",
       "        vertical-align: top;\n",
       "    }\n",
       "\n",
       "    .dataframe thead th {\n",
       "        text-align: right;\n",
       "    }\n",
       "</style>\n",
       "<table border=\"1\" class=\"dataframe\">\n",
       "  <thead>\n",
       "    <tr style=\"text-align: right;\">\n",
       "      <th></th>\n",
       "      <th>Location</th>\n",
       "      <th>Year</th>\n",
       "      <th>Brand</th>\n",
       "      <th>Car_model</th>\n",
       "      <th>Engine</th>\n",
       "      <th>Transmission</th>\n",
       "      <th>Kilometer</th>\n",
       "      <th>Owner</th>\n",
       "      <th>Fuel</th>\n",
       "      <th>EMI</th>\n",
       "      <th>Price</th>\n",
       "    </tr>\n",
       "  </thead>\n",
       "  <tbody>\n",
       "    <tr>\n",
       "      <th>0</th>\n",
       "      <td>New Delhi</td>\n",
       "      <td>2012</td>\n",
       "      <td>Ford</td>\n",
       "      <td>Fiesta</td>\n",
       "      <td>IV</td>\n",
       "      <td>Manual</td>\n",
       "      <td>68356</td>\n",
       "      <td>2nd Owner</td>\n",
       "      <td>Diesel</td>\n",
       "      <td>5808</td>\n",
       "      <td>261099</td>\n",
       "    </tr>\n",
       "    <tr>\n",
       "      <th>1</th>\n",
       "      <td>New Delhi</td>\n",
       "      <td>2012</td>\n",
       "      <td>Maruti</td>\n",
       "      <td>Swift</td>\n",
       "      <td>IV</td>\n",
       "      <td>Manual</td>\n",
       "      <td>126803</td>\n",
       "      <td>1st Owner</td>\n",
       "      <td>Diesel</td>\n",
       "      <td>6097</td>\n",
       "      <td>274099</td>\n",
       "    </tr>\n",
       "    <tr>\n",
       "      <th>2</th>\n",
       "      <td>New Delhi</td>\n",
       "      <td>2017</td>\n",
       "      <td>Ford</td>\n",
       "      <td>New</td>\n",
       "      <td>TREND</td>\n",
       "      <td>Manual</td>\n",
       "      <td>3430</td>\n",
       "      <td>1st Owner</td>\n",
       "      <td>Petrol</td>\n",
       "      <td>10272</td>\n",
       "      <td>461799</td>\n",
       "    </tr>\n",
       "    <tr>\n",
       "      <th>3</th>\n",
       "      <td>New Delhi</td>\n",
       "      <td>2013</td>\n",
       "      <td>Maruti</td>\n",
       "      <td>Swift</td>\n",
       "      <td>IV</td>\n",
       "      <td>Manual</td>\n",
       "      <td>105088</td>\n",
       "      <td>1st Owner</td>\n",
       "      <td>Petrol</td>\n",
       "      <td>7879</td>\n",
       "      <td>354199</td>\n",
       "    </tr>\n",
       "    <tr>\n",
       "      <th>4</th>\n",
       "      <td>New Delhi</td>\n",
       "      <td>2012</td>\n",
       "      <td>Maruti</td>\n",
       "      <td>Swift</td>\n",
       "      <td>ZXI</td>\n",
       "      <td>Manual</td>\n",
       "      <td>70990</td>\n",
       "      <td>1st Owner</td>\n",
       "      <td>Petrol</td>\n",
       "      <td>9527</td>\n",
       "      <td>428299</td>\n",
       "    </tr>\n",
       "  </tbody>\n",
       "</table>\n",
       "</div>"
      ],
      "text/plain": [
       "    Location  Year   Brand Car_model Engine Transmission  Kilometer  \\\n",
       "0  New Delhi  2012    Ford    Fiesta     IV       Manual      68356   \n",
       "1  New Delhi  2012  Maruti     Swift     IV       Manual     126803   \n",
       "2  New Delhi  2017    Ford       New  TREND       Manual       3430   \n",
       "3  New Delhi  2013  Maruti     Swift     IV       Manual     105088   \n",
       "4  New Delhi  2012  Maruti     Swift    ZXI       Manual      70990   \n",
       "\n",
       "       Owner    Fuel    EMI   Price  \n",
       "0  2nd Owner  Diesel   5808  261099  \n",
       "1  1st Owner  Diesel   6097  274099  \n",
       "2  1st Owner  Petrol  10272  461799  \n",
       "3  1st Owner  Petrol   7879  354199  \n",
       "4  1st Owner  Petrol   9527  428299  "
      ]
     },
     "execution_count": 8,
     "metadata": {},
     "output_type": "execute_result"
    }
   ],
   "source": [
    "df.head()"
   ]
  },
  {
   "cell_type": "code",
   "execution_count": 9,
   "id": "4bd37f6a",
   "metadata": {},
   "outputs": [],
   "source": [
    "dfq = df[['Location','Year','Transmission','Owner','Fuel']]"
   ]
  },
  {
   "cell_type": "code",
   "execution_count": 10,
   "id": "e86153c8",
   "metadata": {},
   "outputs": [
    {
     "data": {
      "image/png": "[encoded data removed]",
      "text/plain": [
       "<Figure size 1440x1440 with 5 Axes>"
      ]
     },
     "metadata": {
      "needs_background": "light"
     },
     "output_type": "display_data"
    }
   ],
   "source": [
    "plt.figure(figsize = (20,20))\n",
    "plt_num =1\n",
    "\n",
    "for column in dfq:\n",
    "    if plt_num<=5:\n",
    "        sx = plt.subplot(3,2,plt_num)\n",
    "        sns.countplot(dfq[column])\n",
    "        plt.xlabel(column,fontsize = 25)\n",
    "    plt_num+=1\n",
    "plt.show()"
   ]
  },
  {
   "cell_type": "code",
   "execution_count": 11,
   "id": "2d3cd9d9",
   "metadata": {},
   "outputs": [],
   "source": [
    "le = LabelEncoder()"
   ]
  },
  {
   "cell_type": "code",
   "execution_count": 12,
   "id": "c101d4c4",
   "metadata": {},
   "outputs": [],
   "source": [
    "df1 = le.fit_transform(df['Location'])\n",
    "pd.Series(df1)\n",
    "df['Location'] = df1\n",
    "df2 = le.fit_transform(df['Brand'])\n",
    "pd.Series(df2)\n",
    "df['Brand'] = df2\n",
    "df3 = le.fit_transform(df['Car_model'])\n",
    "pd.Series(df3)\n",
    "df['Car_model'] = df3\n",
    "df4 = le.fit_transform(df['Engine'])\n",
    "pd.Series(df4)\n",
    "df['Engine'] = df4\n",
    "df5 = le.fit_transform(df['Transmission'])\n",
    "pd.Series(df5)\n",
    "df['Transmission'] = df5\n",
    "df6 = le.fit_transform(df['Owner'])\n",
    "pd.Series(df6)\n",
    "df['Owner'] = df6\n",
    "df7 = le.fit_transform(df['Fuel'])\n",
    "pd.Series(df7)\n",
    "df['Fuel'] = df7"
   ]
  },
  {
   "cell_type": "code",
   "execution_count": 13,
   "id": "3fed74b4",
   "metadata": {},
   "outputs": [
    {
     "data": {
      "text/html": [
       "<div>\n",
       "<style scoped>\n",
       "    .dataframe tbody tr th:only-of-type {\n",
       "        vertical-align: middle;\n",
       "    }\n",
       "\n",
       "    .dataframe tbody tr th {\n",
       "        vertical-align: top;\n",
       "    }\n",
       "\n",
       "    .dataframe thead th {\n",
       "        text-align: right;\n",
       "    }\n",
       "</style>\n",
       "<table border=\"1\" class=\"dataframe\">\n",
       "  <thead>\n",
       "    <tr style=\"text-align: right;\">\n",
       "      <th></th>\n",
       "      <th>Location</th>\n",
       "      <th>Year</th>\n",
       "      <th>Brand</th>\n",
       "      <th>Car_model</th>\n",
       "      <th>Engine</th>\n",
       "      <th>Transmission</th>\n",
       "      <th>Kilometer</th>\n",
       "      <th>Owner</th>\n",
       "      <th>Fuel</th>\n",
       "      <th>EMI</th>\n",
       "      <th>Price</th>\n",
       "    </tr>\n",
       "  </thead>\n",
       "  <tbody>\n",
       "    <tr>\n",
       "      <th>count</th>\n",
       "      <td>4881.000000</td>\n",
       "      <td>4881.000000</td>\n",
       "      <td>4881.000000</td>\n",
       "      <td>4881.000000</td>\n",
       "      <td>4881.000000</td>\n",
       "      <td>4881.000000</td>\n",
       "      <td>4881.000000</td>\n",
       "      <td>4881.000000</td>\n",
       "      <td>4881.000000</td>\n",
       "      <td>4881.000000</td>\n",
       "      <td>4.881000e+03</td>\n",
       "    </tr>\n",
       "    <tr>\n",
       "      <th>mean</th>\n",
       "      <td>5.211022</td>\n",
       "      <td>2016.320631</td>\n",
       "      <td>11.657242</td>\n",
       "      <td>46.324729</td>\n",
       "      <td>87.502151</td>\n",
       "      <td>2.825241</td>\n",
       "      <td>45909.972547</td>\n",
       "      <td>0.218808</td>\n",
       "      <td>0.723622</td>\n",
       "      <td>13112.705593</td>\n",
       "      <td>5.894820e+05</td>\n",
       "    </tr>\n",
       "    <tr>\n",
       "      <th>std</th>\n",
       "      <td>2.980560</td>\n",
       "      <td>2.312617</td>\n",
       "      <td>4.730169</td>\n",
       "      <td>31.903062</td>\n",
       "      <td>52.084685</td>\n",
       "      <td>0.414375</td>\n",
       "      <td>33048.894727</td>\n",
       "      <td>0.463043</td>\n",
       "      <td>0.463010</td>\n",
       "      <td>6670.669116</td>\n",
       "      <td>2.998799e+05</td>\n",
       "    </tr>\n",
       "    <tr>\n",
       "      <th>min</th>\n",
       "      <td>0.000000</td>\n",
       "      <td>2007.000000</td>\n",
       "      <td>0.000000</td>\n",
       "      <td>0.000000</td>\n",
       "      <td>0.000000</td>\n",
       "      <td>0.000000</td>\n",
       "      <td>58.000000</td>\n",
       "      <td>0.000000</td>\n",
       "      <td>0.000000</td>\n",
       "      <td>2678.000000</td>\n",
       "      <td>1.203990e+05</td>\n",
       "    </tr>\n",
       "    <tr>\n",
       "      <th>25%</th>\n",
       "      <td>2.000000</td>\n",
       "      <td>2015.000000</td>\n",
       "      <td>7.000000</td>\n",
       "      <td>19.000000</td>\n",
       "      <td>52.000000</td>\n",
       "      <td>3.000000</td>\n",
       "      <td>22276.000000</td>\n",
       "      <td>0.000000</td>\n",
       "      <td>0.000000</td>\n",
       "      <td>8864.000000</td>\n",
       "      <td>3.984990e+05</td>\n",
       "    </tr>\n",
       "    <tr>\n",
       "      <th>50%</th>\n",
       "      <td>6.000000</td>\n",
       "      <td>2017.000000</td>\n",
       "      <td>14.000000</td>\n",
       "      <td>42.000000</td>\n",
       "      <td>82.000000</td>\n",
       "      <td>3.000000</td>\n",
       "      <td>38808.000000</td>\n",
       "      <td>0.000000</td>\n",
       "      <td>1.000000</td>\n",
       "      <td>11436.000000</td>\n",
       "      <td>5.140990e+05</td>\n",
       "    </tr>\n",
       "    <tr>\n",
       "      <th>75%</th>\n",
       "      <td>8.000000</td>\n",
       "      <td>2018.000000</td>\n",
       "      <td>14.000000</td>\n",
       "      <td>83.000000</td>\n",
       "      <td>144.000000</td>\n",
       "      <td>3.000000</td>\n",
       "      <td>61424.000000</td>\n",
       "      <td>0.000000</td>\n",
       "      <td>1.000000</td>\n",
       "      <td>15168.000000</td>\n",
       "      <td>6.818990e+05</td>\n",
       "    </tr>\n",
       "    <tr>\n",
       "      <th>max</th>\n",
       "      <td>9.000000</td>\n",
       "      <td>2021.000000</td>\n",
       "      <td>23.000000</td>\n",
       "      <td>108.000000</td>\n",
       "      <td>180.000000</td>\n",
       "      <td>3.000000</td>\n",
       "      <td>277105.000000</td>\n",
       "      <td>3.000000</td>\n",
       "      <td>3.000000</td>\n",
       "      <td>79119.000000</td>\n",
       "      <td>3.556799e+06</td>\n",
       "    </tr>\n",
       "  </tbody>\n",
       "</table>\n",
       "</div>"
      ],
      "text/plain": [
       "          Location         Year        Brand    Car_model       Engine  \\\n",
       "count  4881.000000  4881.000000  4881.000000  4881.000000  4881.000000   \n",
       "mean      5.211022  2016.320631    11.657242    46.324729    87.502151   \n",
       "std       2.980560     2.312617     4.730169    31.903062    52.084685   \n",
       "min       0.000000  2007.000000     0.000000     0.000000     0.000000   \n",
       "25%       2.000000  2015.000000     7.000000    19.000000    52.000000   \n",
       "50%       6.000000  2017.000000    14.000000    42.000000    82.000000   \n",
       "75%       8.000000  2018.000000    14.000000    83.000000   144.000000   \n",
       "max       9.000000  2021.000000    23.000000   108.000000   180.000000   \n",
       "\n",
       "       Transmission      Kilometer        Owner         Fuel           EMI  \\\n",
       "count   4881.000000    4881.000000  4881.000000  4881.000000   4881.000000   \n",
       "mean       2.825241   45909.972547     0.218808     0.723622  13112.705593   \n",
       "std        0.414375   33048.894727     0.463043     0.463010   6670.669116   \n",
       "min        0.000000      58.000000     0.000000     0.000000   2678.000000   \n",
       "25%        3.000000   22276.000000     0.000000     0.000000   8864.000000   \n",
       "50%        3.000000   38808.000000     0.000000     1.000000  11436.000000   \n",
       "75%        3.000000   61424.000000     0.000000     1.000000  15168.000000   \n",
       "max        3.000000  277105.000000     3.000000     3.000000  79119.000000   \n",
       "\n",
       "              Price  \n",
       "count  4.881000e+03  \n",
       "mean   5.894820e+05  \n",
       "std    2.998799e+05  \n",
       "min    1.203990e+05  \n",
       "25%    3.984990e+05  \n",
       "50%    5.140990e+05  \n",
       "75%    6.818990e+05  \n",
       "max    3.556799e+06  "
      ]
     },
     "execution_count": 13,
     "metadata": {},
     "output_type": "execute_result"
    }
   ],
   "source": [
    "df.describe()"
   ]
  },
  {
   "cell_type": "code",
   "execution_count": 14,
   "id": "e842d512",
   "metadata": {},
   "outputs": [
    {
     "data": {
      "image/png": "[encoded data removed]",
      "text/plain": [
       "<Figure size 1440x1440 with 11 Axes>"
      ]
     },
     "metadata": {
      "needs_background": "light"
     },
     "output_type": "display_data"
    }
   ],
   "source": [
    "## distribution plot to check the data distribition\n",
    "plt.figure(figsize = (20,20))\n",
    "plt_num =1\n",
    "\n",
    "for column in df:\n",
    "    if plt_num<=11:\n",
    "        sx = plt.subplot(4,3,plt_num)\n",
    "        sns.distplot(df[column])\n",
    "        plt.xlabel(column,fontsize = 25)\n",
    "    plt_num+=1\n",
    "plt.show()"
   ]
  },
  {
   "cell_type": "code",
   "execution_count": 15,
   "id": "0f6b88a3",
   "metadata": {},
   "outputs": [
    {
     "data": {
      "image/png": "[encoded data removed]",
      "text/plain": [
       "<Figure size 1440x1440 with 11 Axes>"
      ]
     },
     "metadata": {
      "needs_background": "light"
     },
     "output_type": "display_data"
    }
   ],
   "source": [
    "## distribution plot to check the data distribition\n",
    "plt.figure(figsize = (20,20))\n",
    "plt_num =1\n",
    "\n",
    "for column in df:\n",
    "    if plt_num<=11:\n",
    "        sx = plt.subplot(4,3,plt_num)\n",
    "        sns.boxplot(df[column])\n",
    "        plt.xlabel(column,fontsize = 25)\n",
    "    plt_num+=1\n",
    "plt.show()"
   ]
  },
  {
   "cell_type": "code",
   "execution_count": 16,
   "id": "219c46aa",
   "metadata": {},
   "outputs": [
    {
     "data": {
      "text/plain": [
       "Location             6.0\n",
       "Year                 3.0\n",
       "Brand                7.0\n",
       "Car_model           64.0\n",
       "Engine              92.0\n",
       "Transmission         0.0\n",
       "Kilometer        39148.0\n",
       "Owner                0.0\n",
       "Fuel                 1.0\n",
       "EMI               6304.0\n",
       "Price           283400.0\n",
       "dtype: float64"
      ]
     },
     "execution_count": 16,
     "metadata": {},
     "output_type": "execute_result"
    }
   ],
   "source": [
    "##finding the outliers \n",
    "q1 = df.quantile(0.25)\n",
    "q3 = df.quantile(0.75)\n",
    "iqr = q3- q1\n",
    "iqr"
   ]
  },
  {
   "cell_type": "code",
   "execution_count": 17,
   "id": "397c37f5",
   "metadata": {},
   "outputs": [
    {
     "data": {
      "text/html": [
       "<div>\n",
       "<style scoped>\n",
       "    .dataframe tbody tr th:only-of-type {\n",
       "        vertical-align: middle;\n",
       "    }\n",
       "\n",
       "    .dataframe tbody tr th {\n",
       "        vertical-align: top;\n",
       "    }\n",
       "\n",
       "    .dataframe thead th {\n",
       "        text-align: right;\n",
       "    }\n",
       "</style>\n",
       "<table border=\"1\" class=\"dataframe\">\n",
       "  <thead>\n",
       "    <tr style=\"text-align: right;\">\n",
       "      <th></th>\n",
       "      <th>index</th>\n",
       "      <th>Location</th>\n",
       "      <th>Year</th>\n",
       "      <th>Brand</th>\n",
       "      <th>Car_model</th>\n",
       "      <th>Engine</th>\n",
       "      <th>Transmission</th>\n",
       "      <th>Kilometer</th>\n",
       "      <th>Owner</th>\n",
       "      <th>Fuel</th>\n",
       "      <th>EMI</th>\n",
       "      <th>Price</th>\n",
       "    </tr>\n",
       "  </thead>\n",
       "  <tbody>\n",
       "    <tr>\n",
       "      <th>0</th>\n",
       "      <td>0</td>\n",
       "      <td>7</td>\n",
       "      <td>2012</td>\n",
       "      <td>4</td>\n",
       "      <td>34</td>\n",
       "      <td>49</td>\n",
       "      <td>3</td>\n",
       "      <td>68356</td>\n",
       "      <td>1</td>\n",
       "      <td>0</td>\n",
       "      <td>5808</td>\n",
       "      <td>261099</td>\n",
       "    </tr>\n",
       "    <tr>\n",
       "      <th>1</th>\n",
       "      <td>2</td>\n",
       "      <td>7</td>\n",
       "      <td>2017</td>\n",
       "      <td>4</td>\n",
       "      <td>64</td>\n",
       "      <td>127</td>\n",
       "      <td>3</td>\n",
       "      <td>3430</td>\n",
       "      <td>0</td>\n",
       "      <td>1</td>\n",
       "      <td>10272</td>\n",
       "      <td>461799</td>\n",
       "    </tr>\n",
       "    <tr>\n",
       "      <th>2</th>\n",
       "      <td>3</td>\n",
       "      <td>7</td>\n",
       "      <td>2013</td>\n",
       "      <td>14</td>\n",
       "      <td>83</td>\n",
       "      <td>49</td>\n",
       "      <td>3</td>\n",
       "      <td>105088</td>\n",
       "      <td>0</td>\n",
       "      <td>1</td>\n",
       "      <td>7879</td>\n",
       "      <td>354199</td>\n",
       "    </tr>\n",
       "    <tr>\n",
       "      <th>3</th>\n",
       "      <td>4</td>\n",
       "      <td>7</td>\n",
       "      <td>2012</td>\n",
       "      <td>14</td>\n",
       "      <td>83</td>\n",
       "      <td>165</td>\n",
       "      <td>3</td>\n",
       "      <td>70990</td>\n",
       "      <td>0</td>\n",
       "      <td>1</td>\n",
       "      <td>9527</td>\n",
       "      <td>428299</td>\n",
       "    </tr>\n",
       "    <tr>\n",
       "      <th>4</th>\n",
       "      <td>5</td>\n",
       "      <td>7</td>\n",
       "      <td>2013</td>\n",
       "      <td>14</td>\n",
       "      <td>83</td>\n",
       "      <td>49</td>\n",
       "      <td>3</td>\n",
       "      <td>83414</td>\n",
       "      <td>0</td>\n",
       "      <td>0</td>\n",
       "      <td>7625</td>\n",
       "      <td>342799</td>\n",
       "    </tr>\n",
       "    <tr>\n",
       "      <th>...</th>\n",
       "      <td>...</td>\n",
       "      <td>...</td>\n",
       "      <td>...</td>\n",
       "      <td>...</td>\n",
       "      <td>...</td>\n",
       "      <td>...</td>\n",
       "      <td>...</td>\n",
       "      <td>...</td>\n",
       "      <td>...</td>\n",
       "      <td>...</td>\n",
       "      <td>...</td>\n",
       "      <td>...</td>\n",
       "    </tr>\n",
       "    <tr>\n",
       "      <th>4699</th>\n",
       "      <td>4876</td>\n",
       "      <td>4</td>\n",
       "      <td>2016</td>\n",
       "      <td>14</td>\n",
       "      <td>5</td>\n",
       "      <td>149</td>\n",
       "      <td>3</td>\n",
       "      <td>85830</td>\n",
       "      <td>0</td>\n",
       "      <td>1</td>\n",
       "      <td>6758</td>\n",
       "      <td>303799</td>\n",
       "    </tr>\n",
       "    <tr>\n",
       "      <th>4700</th>\n",
       "      <td>4877</td>\n",
       "      <td>4</td>\n",
       "      <td>2017</td>\n",
       "      <td>14</td>\n",
       "      <td>5</td>\n",
       "      <td>62</td>\n",
       "      <td>3</td>\n",
       "      <td>69119</td>\n",
       "      <td>0</td>\n",
       "      <td>1</td>\n",
       "      <td>6322</td>\n",
       "      <td>284199</td>\n",
       "    </tr>\n",
       "    <tr>\n",
       "      <th>4701</th>\n",
       "      <td>4878</td>\n",
       "      <td>4</td>\n",
       "      <td>2018</td>\n",
       "      <td>14</td>\n",
       "      <td>27</td>\n",
       "      <td>86</td>\n",
       "      <td>3</td>\n",
       "      <td>18637</td>\n",
       "      <td>0</td>\n",
       "      <td>1</td>\n",
       "      <td>9503</td>\n",
       "      <td>427199</td>\n",
       "    </tr>\n",
       "    <tr>\n",
       "      <th>4702</th>\n",
       "      <td>4879</td>\n",
       "      <td>4</td>\n",
       "      <td>2018</td>\n",
       "      <td>7</td>\n",
       "      <td>42</td>\n",
       "      <td>145</td>\n",
       "      <td>3</td>\n",
       "      <td>105252</td>\n",
       "      <td>0</td>\n",
       "      <td>1</td>\n",
       "      <td>11763</td>\n",
       "      <td>528799</td>\n",
       "    </tr>\n",
       "    <tr>\n",
       "      <th>4703</th>\n",
       "      <td>4880</td>\n",
       "      <td>4</td>\n",
       "      <td>2019</td>\n",
       "      <td>14</td>\n",
       "      <td>5</td>\n",
       "      <td>62</td>\n",
       "      <td>3</td>\n",
       "      <td>6788</td>\n",
       "      <td>0</td>\n",
       "      <td>1</td>\n",
       "      <td>7183</td>\n",
       "      <td>322899</td>\n",
       "    </tr>\n",
       "  </tbody>\n",
       "</table>\n",
       "<p>4704 rows × 12 columns</p>\n",
       "</div>"
      ],
      "text/plain": [
       "      index  Location  Year  Brand  Car_model  Engine  Transmission  \\\n",
       "0         0         7  2012      4         34      49             3   \n",
       "1         2         7  2017      4         64     127             3   \n",
       "2         3         7  2013     14         83      49             3   \n",
       "3         4         7  2012     14         83     165             3   \n",
       "4         5         7  2013     14         83      49             3   \n",
       "...     ...       ...   ...    ...        ...     ...           ...   \n",
       "4699   4876         4  2016     14          5     149             3   \n",
       "4700   4877         4  2017     14          5      62             3   \n",
       "4701   4878         4  2018     14         27      86             3   \n",
       "4702   4879         4  2018      7         42     145             3   \n",
       "4703   4880         4  2019     14          5      62             3   \n",
       "\n",
       "      Kilometer  Owner  Fuel    EMI   Price  \n",
       "0         68356      1     0   5808  261099  \n",
       "1          3430      0     1  10272  461799  \n",
       "2        105088      0     1   7879  354199  \n",
       "3         70990      0     1   9527  428299  \n",
       "4         83414      0     0   7625  342799  \n",
       "...         ...    ...   ...    ...     ...  \n",
       "4699      85830      0     1   6758  303799  \n",
       "4700      69119      0     1   6322  284199  \n",
       "4701      18637      0     1   9503  427199  \n",
       "4702     105252      0     1  11763  528799  \n",
       "4703       6788      0     1   7183  322899  \n",
       "\n",
       "[4704 rows x 12 columns]"
      ]
     },
     "execution_count": 17,
     "metadata": {},
     "output_type": "execute_result"
    }
   ],
   "source": [
    "# Removing outliers in the Runs columns\n",
    "kilo = (q3.Kilometer + (1.5 * iqr.Kilometer))\n",
    "kilo\n",
    "index = np.where(df['Kilometer']>kilo)\n",
    "index\n",
    "\n",
    "df = df.drop(df.index[index])\n",
    "df.shape\n",
    "\n",
    "df.reset_index()"
   ]
  },
  {
   "cell_type": "code",
   "execution_count": 18,
   "id": "552e5deb",
   "metadata": {},
   "outputs": [
    {
     "data": {
      "text/html": [
       "<div>\n",
       "<style scoped>\n",
       "    .dataframe tbody tr th:only-of-type {\n",
       "        vertical-align: middle;\n",
       "    }\n",
       "\n",
       "    .dataframe tbody tr th {\n",
       "        vertical-align: top;\n",
       "    }\n",
       "\n",
       "    .dataframe thead th {\n",
       "        text-align: right;\n",
       "    }\n",
       "</style>\n",
       "<table border=\"1\" class=\"dataframe\">\n",
       "  <thead>\n",
       "    <tr style=\"text-align: right;\">\n",
       "      <th></th>\n",
       "      <th>index</th>\n",
       "      <th>Location</th>\n",
       "      <th>Year</th>\n",
       "      <th>Brand</th>\n",
       "      <th>Car_model</th>\n",
       "      <th>Engine</th>\n",
       "      <th>Transmission</th>\n",
       "      <th>Kilometer</th>\n",
       "      <th>Owner</th>\n",
       "      <th>Fuel</th>\n",
       "      <th>EMI</th>\n",
       "      <th>Price</th>\n",
       "    </tr>\n",
       "  </thead>\n",
       "  <tbody>\n",
       "    <tr>\n",
       "      <th>0</th>\n",
       "      <td>0</td>\n",
       "      <td>7</td>\n",
       "      <td>2012</td>\n",
       "      <td>4</td>\n",
       "      <td>34</td>\n",
       "      <td>49</td>\n",
       "      <td>3</td>\n",
       "      <td>68356</td>\n",
       "      <td>1</td>\n",
       "      <td>0</td>\n",
       "      <td>5808</td>\n",
       "      <td>261099</td>\n",
       "    </tr>\n",
       "    <tr>\n",
       "      <th>1</th>\n",
       "      <td>2</td>\n",
       "      <td>7</td>\n",
       "      <td>2017</td>\n",
       "      <td>4</td>\n",
       "      <td>64</td>\n",
       "      <td>127</td>\n",
       "      <td>3</td>\n",
       "      <td>3430</td>\n",
       "      <td>0</td>\n",
       "      <td>1</td>\n",
       "      <td>10272</td>\n",
       "      <td>461799</td>\n",
       "    </tr>\n",
       "    <tr>\n",
       "      <th>2</th>\n",
       "      <td>3</td>\n",
       "      <td>7</td>\n",
       "      <td>2013</td>\n",
       "      <td>14</td>\n",
       "      <td>83</td>\n",
       "      <td>49</td>\n",
       "      <td>3</td>\n",
       "      <td>105088</td>\n",
       "      <td>0</td>\n",
       "      <td>1</td>\n",
       "      <td>7879</td>\n",
       "      <td>354199</td>\n",
       "    </tr>\n",
       "    <tr>\n",
       "      <th>3</th>\n",
       "      <td>4</td>\n",
       "      <td>7</td>\n",
       "      <td>2012</td>\n",
       "      <td>14</td>\n",
       "      <td>83</td>\n",
       "      <td>165</td>\n",
       "      <td>3</td>\n",
       "      <td>70990</td>\n",
       "      <td>0</td>\n",
       "      <td>1</td>\n",
       "      <td>9527</td>\n",
       "      <td>428299</td>\n",
       "    </tr>\n",
       "    <tr>\n",
       "      <th>4</th>\n",
       "      <td>5</td>\n",
       "      <td>7</td>\n",
       "      <td>2013</td>\n",
       "      <td>14</td>\n",
       "      <td>83</td>\n",
       "      <td>49</td>\n",
       "      <td>3</td>\n",
       "      <td>83414</td>\n",
       "      <td>0</td>\n",
       "      <td>0</td>\n",
       "      <td>7625</td>\n",
       "      <td>342799</td>\n",
       "    </tr>\n",
       "    <tr>\n",
       "      <th>...</th>\n",
       "      <td>...</td>\n",
       "      <td>...</td>\n",
       "      <td>...</td>\n",
       "      <td>...</td>\n",
       "      <td>...</td>\n",
       "      <td>...</td>\n",
       "      <td>...</td>\n",
       "      <td>...</td>\n",
       "      <td>...</td>\n",
       "      <td>...</td>\n",
       "      <td>...</td>\n",
       "      <td>...</td>\n",
       "    </tr>\n",
       "    <tr>\n",
       "      <th>4414</th>\n",
       "      <td>4876</td>\n",
       "      <td>4</td>\n",
       "      <td>2016</td>\n",
       "      <td>14</td>\n",
       "      <td>5</td>\n",
       "      <td>149</td>\n",
       "      <td>3</td>\n",
       "      <td>85830</td>\n",
       "      <td>0</td>\n",
       "      <td>1</td>\n",
       "      <td>6758</td>\n",
       "      <td>303799</td>\n",
       "    </tr>\n",
       "    <tr>\n",
       "      <th>4415</th>\n",
       "      <td>4877</td>\n",
       "      <td>4</td>\n",
       "      <td>2017</td>\n",
       "      <td>14</td>\n",
       "      <td>5</td>\n",
       "      <td>62</td>\n",
       "      <td>3</td>\n",
       "      <td>69119</td>\n",
       "      <td>0</td>\n",
       "      <td>1</td>\n",
       "      <td>6322</td>\n",
       "      <td>284199</td>\n",
       "    </tr>\n",
       "    <tr>\n",
       "      <th>4416</th>\n",
       "      <td>4878</td>\n",
       "      <td>4</td>\n",
       "      <td>2018</td>\n",
       "      <td>14</td>\n",
       "      <td>27</td>\n",
       "      <td>86</td>\n",
       "      <td>3</td>\n",
       "      <td>18637</td>\n",
       "      <td>0</td>\n",
       "      <td>1</td>\n",
       "      <td>9503</td>\n",
       "      <td>427199</td>\n",
       "    </tr>\n",
       "    <tr>\n",
       "      <th>4417</th>\n",
       "      <td>4879</td>\n",
       "      <td>4</td>\n",
       "      <td>2018</td>\n",
       "      <td>7</td>\n",
       "      <td>42</td>\n",
       "      <td>145</td>\n",
       "      <td>3</td>\n",
       "      <td>105252</td>\n",
       "      <td>0</td>\n",
       "      <td>1</td>\n",
       "      <td>11763</td>\n",
       "      <td>528799</td>\n",
       "    </tr>\n",
       "    <tr>\n",
       "      <th>4418</th>\n",
       "      <td>4880</td>\n",
       "      <td>4</td>\n",
       "      <td>2019</td>\n",
       "      <td>14</td>\n",
       "      <td>5</td>\n",
       "      <td>62</td>\n",
       "      <td>3</td>\n",
       "      <td>6788</td>\n",
       "      <td>0</td>\n",
       "      <td>1</td>\n",
       "      <td>7183</td>\n",
       "      <td>322899</td>\n",
       "    </tr>\n",
       "  </tbody>\n",
       "</table>\n",
       "<p>4419 rows × 12 columns</p>\n",
       "</div>"
      ],
      "text/plain": [
       "      index  Location  Year  Brand  Car_model  Engine  Transmission  \\\n",
       "0         0         7  2012      4         34      49             3   \n",
       "1         2         7  2017      4         64     127             3   \n",
       "2         3         7  2013     14         83      49             3   \n",
       "3         4         7  2012     14         83     165             3   \n",
       "4         5         7  2013     14         83      49             3   \n",
       "...     ...       ...   ...    ...        ...     ...           ...   \n",
       "4414   4876         4  2016     14          5     149             3   \n",
       "4415   4877         4  2017     14          5      62             3   \n",
       "4416   4878         4  2018     14         27      86             3   \n",
       "4417   4879         4  2018      7         42     145             3   \n",
       "4418   4880         4  2019     14          5      62             3   \n",
       "\n",
       "      Kilometer  Owner  Fuel    EMI   Price  \n",
       "0         68356      1     0   5808  261099  \n",
       "1          3430      0     1  10272  461799  \n",
       "2        105088      0     1   7879  354199  \n",
       "3         70990      0     1   9527  428299  \n",
       "4         83414      0     0   7625  342799  \n",
       "...         ...    ...   ...    ...     ...  \n",
       "4414      85830      0     1   6758  303799  \n",
       "4415      69119      0     1   6322  284199  \n",
       "4416      18637      0     1   9503  427199  \n",
       "4417     105252      0     1  11763  528799  \n",
       "4418       6788      0     1   7183  322899  \n",
       "\n",
       "[4419 rows x 12 columns]"
      ]
     },
     "execution_count": 18,
     "metadata": {},
     "output_type": "execute_result"
    }
   ],
   "source": [
    "# Removing outliers in the Runs columns\n",
    "pri = (q3.Price + (1.5 * iqr.Price))\n",
    "pri\n",
    "index = np.where(df['Price']>pri)\n",
    "index\n",
    "\n",
    "df = df.drop(df.index[index])\n",
    "df.shape\n",
    "\n",
    "df.reset_index()"
   ]
  },
  {
   "cell_type": "code",
   "execution_count": 19,
   "id": "9520e366",
   "metadata": {},
   "outputs": [
    {
     "data": {
      "image/png": "[encoded data removed]",
      "text/plain": [
       "<Figure size 1584x1440 with 2 Axes>"
      ]
     },
     "metadata": {
      "needs_background": "light"
     },
     "output_type": "display_data"
    }
   ],
   "source": [
    "#finding the Co-relation between the columns using heatmap\n",
    "df_corr = df.corr().abs()\n",
    "plt.figure(figsize = (22,20))\n",
    "sns.heatmap(df_corr,annot = True,annot_kws = {'size':10})\n",
    "plt.show()"
   ]
  },
  {
   "cell_type": "code",
   "execution_count": 20,
   "id": "f9166d22",
   "metadata": {},
   "outputs": [
    {
     "data": {
      "image/png": "[encoded data removed]",
      "text/plain": [
       "<Figure size 432x288 with 1 Axes>"
      ]
     },
     "metadata": {
      "needs_background": "light"
     },
     "output_type": "display_data"
    }
   ],
   "source": [
    "## plotting scatter plot to confirm co_relation between Runs_Allowed and Earned_Runs\n",
    "plt.scatter(df.EMI,df.Price)\n",
    "plt.xlabel('EMI')\n",
    "plt.ylabel('Price')\n",
    "plt.title('EMI v/s Price')\n",
    "plt.show()"
   ]
  },
  {
   "cell_type": "code",
   "execution_count": 21,
   "id": "161a3bb5",
   "metadata": {},
   "outputs": [],
   "source": [
    "##Dropping the columns which has has high co_relation between each other\n",
    "# splitting the features and labels into x and y\n",
    "x = df.drop(columns =['Price','EMI'])\n",
    "y = df['Price']"
   ]
  },
  {
   "cell_type": "code",
   "execution_count": 22,
   "id": "182199fb",
   "metadata": {},
   "outputs": [
    {
     "data": {
      "text/html": [
       "<div>\n",
       "<style scoped>\n",
       "    .dataframe tbody tr th:only-of-type {\n",
       "        vertical-align: middle;\n",
       "    }\n",
       "\n",
       "    .dataframe tbody tr th {\n",
       "        vertical-align: top;\n",
       "    }\n",
       "\n",
       "    .dataframe thead th {\n",
       "        text-align: right;\n",
       "    }\n",
       "</style>\n",
       "<table border=\"1\" class=\"dataframe\">\n",
       "  <thead>\n",
       "    <tr style=\"text-align: right;\">\n",
       "      <th></th>\n",
       "      <th>Location</th>\n",
       "      <th>Year</th>\n",
       "      <th>Brand</th>\n",
       "      <th>Car_model</th>\n",
       "      <th>Engine</th>\n",
       "      <th>Transmission</th>\n",
       "      <th>Kilometer</th>\n",
       "      <th>Owner</th>\n",
       "      <th>Fuel</th>\n",
       "    </tr>\n",
       "  </thead>\n",
       "  <tbody>\n",
       "    <tr>\n",
       "      <th>0</th>\n",
       "      <td>7</td>\n",
       "      <td>2012</td>\n",
       "      <td>4</td>\n",
       "      <td>34</td>\n",
       "      <td>49</td>\n",
       "      <td>3</td>\n",
       "      <td>68356</td>\n",
       "      <td>1</td>\n",
       "      <td>0</td>\n",
       "    </tr>\n",
       "    <tr>\n",
       "      <th>2</th>\n",
       "      <td>7</td>\n",
       "      <td>2017</td>\n",
       "      <td>4</td>\n",
       "      <td>64</td>\n",
       "      <td>127</td>\n",
       "      <td>3</td>\n",
       "      <td>3430</td>\n",
       "      <td>0</td>\n",
       "      <td>1</td>\n",
       "    </tr>\n",
       "    <tr>\n",
       "      <th>3</th>\n",
       "      <td>7</td>\n",
       "      <td>2013</td>\n",
       "      <td>14</td>\n",
       "      <td>83</td>\n",
       "      <td>49</td>\n",
       "      <td>3</td>\n",
       "      <td>105088</td>\n",
       "      <td>0</td>\n",
       "      <td>1</td>\n",
       "    </tr>\n",
       "    <tr>\n",
       "      <th>4</th>\n",
       "      <td>7</td>\n",
       "      <td>2012</td>\n",
       "      <td>14</td>\n",
       "      <td>83</td>\n",
       "      <td>165</td>\n",
       "      <td>3</td>\n",
       "      <td>70990</td>\n",
       "      <td>0</td>\n",
       "      <td>1</td>\n",
       "    </tr>\n",
       "    <tr>\n",
       "      <th>5</th>\n",
       "      <td>7</td>\n",
       "      <td>2013</td>\n",
       "      <td>14</td>\n",
       "      <td>83</td>\n",
       "      <td>49</td>\n",
       "      <td>3</td>\n",
       "      <td>83414</td>\n",
       "      <td>0</td>\n",
       "      <td>0</td>\n",
       "    </tr>\n",
       "    <tr>\n",
       "      <th>...</th>\n",
       "      <td>...</td>\n",
       "      <td>...</td>\n",
       "      <td>...</td>\n",
       "      <td>...</td>\n",
       "      <td>...</td>\n",
       "      <td>...</td>\n",
       "      <td>...</td>\n",
       "      <td>...</td>\n",
       "      <td>...</td>\n",
       "    </tr>\n",
       "    <tr>\n",
       "      <th>4876</th>\n",
       "      <td>4</td>\n",
       "      <td>2016</td>\n",
       "      <td>14</td>\n",
       "      <td>5</td>\n",
       "      <td>149</td>\n",
       "      <td>3</td>\n",
       "      <td>85830</td>\n",
       "      <td>0</td>\n",
       "      <td>1</td>\n",
       "    </tr>\n",
       "    <tr>\n",
       "      <th>4877</th>\n",
       "      <td>4</td>\n",
       "      <td>2017</td>\n",
       "      <td>14</td>\n",
       "      <td>5</td>\n",
       "      <td>62</td>\n",
       "      <td>3</td>\n",
       "      <td>69119</td>\n",
       "      <td>0</td>\n",
       "      <td>1</td>\n",
       "    </tr>\n",
       "    <tr>\n",
       "      <th>4878</th>\n",
       "      <td>4</td>\n",
       "      <td>2018</td>\n",
       "      <td>14</td>\n",
       "      <td>27</td>\n",
       "      <td>86</td>\n",
       "      <td>3</td>\n",
       "      <td>18637</td>\n",
       "      <td>0</td>\n",
       "      <td>1</td>\n",
       "    </tr>\n",
       "    <tr>\n",
       "      <th>4879</th>\n",
       "      <td>4</td>\n",
       "      <td>2018</td>\n",
       "      <td>7</td>\n",
       "      <td>42</td>\n",
       "      <td>145</td>\n",
       "      <td>3</td>\n",
       "      <td>105252</td>\n",
       "      <td>0</td>\n",
       "      <td>1</td>\n",
       "    </tr>\n",
       "    <tr>\n",
       "      <th>4880</th>\n",
       "      <td>4</td>\n",
       "      <td>2019</td>\n",
       "      <td>14</td>\n",
       "      <td>5</td>\n",
       "      <td>62</td>\n",
       "      <td>3</td>\n",
       "      <td>6788</td>\n",
       "      <td>0</td>\n",
       "      <td>1</td>\n",
       "    </tr>\n",
       "  </tbody>\n",
       "</table>\n",
       "<p>4419 rows × 9 columns</p>\n",
       "</div>"
      ],
      "text/plain": [
       "      Location  Year  Brand  Car_model  Engine  Transmission  Kilometer  \\\n",
       "0            7  2012      4         34      49             3      68356   \n",
       "2            7  2017      4         64     127             3       3430   \n",
       "3            7  2013     14         83      49             3     105088   \n",
       "4            7  2012     14         83     165             3      70990   \n",
       "5            7  2013     14         83      49             3      83414   \n",
       "...        ...   ...    ...        ...     ...           ...        ...   \n",
       "4876         4  2016     14          5     149             3      85830   \n",
       "4877         4  2017     14          5      62             3      69119   \n",
       "4878         4  2018     14         27      86             3      18637   \n",
       "4879         4  2018      7         42     145             3     105252   \n",
       "4880         4  2019     14          5      62             3       6788   \n",
       "\n",
       "      Owner  Fuel  \n",
       "0         1     0  \n",
       "2         0     1  \n",
       "3         0     1  \n",
       "4         0     1  \n",
       "5         0     0  \n",
       "...     ...   ...  \n",
       "4876      0     1  \n",
       "4877      0     1  \n",
       "4878      0     1  \n",
       "4879      0     1  \n",
       "4880      0     1  \n",
       "\n",
       "[4419 rows x 9 columns]"
      ]
     },
     "execution_count": 22,
     "metadata": {},
     "output_type": "execute_result"
    }
   ],
   "source": [
    "x"
   ]
  },
  {
   "cell_type": "code",
   "execution_count": 23,
   "id": "d4e63400",
   "metadata": {},
   "outputs": [
    {
     "data": {
      "text/plain": [
       "0       261099\n",
       "2       461799\n",
       "3       354199\n",
       "4       428299\n",
       "5       342799\n",
       "         ...  \n",
       "4876    303799\n",
       "4877    284199\n",
       "4878    427199\n",
       "4879    528799\n",
       "4880    322899\n",
       "Name: Price, Length: 4419, dtype: int64"
      ]
     },
     "execution_count": 23,
     "metadata": {},
     "output_type": "execute_result"
    }
   ],
   "source": [
    "y"
   ]
  },
  {
   "cell_type": "code",
   "execution_count": 24,
   "id": "9b47ec5e",
   "metadata": {},
   "outputs": [],
   "source": [
    "## Transforming the dataset in standard scaler form\n",
    "sc = StandardScaler()\n",
    "x_sc = sc.fit_transform(x)"
   ]
  },
  {
   "cell_type": "code",
   "execution_count": 25,
   "id": "fdc4199e",
   "metadata": {},
   "outputs": [],
   "source": [
    "x_train,x_test,y_train,y_test = train_test_split(x_sc,y,test_size = 0.30,random_state = 34)"
   ]
  },
  {
   "cell_type": "code",
   "execution_count": 28,
   "id": "770521e7",
   "metadata": {},
   "outputs": [
    {
     "data": {
      "text/plain": [
       "LinearRegression()"
      ]
     },
     "execution_count": 28,
     "metadata": {},
     "output_type": "execute_result"
    }
   ],
   "source": [
    "lr = LinearRegression()\n",
    "lr.fit(x_train,y_train)"
   ]
  },
  {
   "cell_type": "code",
   "execution_count": 29,
   "id": "46024497",
   "metadata": {},
   "outputs": [
    {
     "data": {
      "text/plain": [
       "0.4075095004948386"
      ]
     },
     "execution_count": 29,
     "metadata": {},
     "output_type": "execute_result"
    }
   ],
   "source": [
    "#Checking the score of linearRegression for training data\n",
    "lr.score(x_train,y_train)"
   ]
  },
  {
   "cell_type": "code",
   "execution_count": 30,
   "id": "e85b69c0",
   "metadata": {},
   "outputs": [
    {
     "data": {
      "text/plain": [
       "0.4265607234455646"
      ]
     },
     "execution_count": 30,
     "metadata": {},
     "output_type": "execute_result"
    }
   ],
   "source": [
    "lr.score(x_test,y_test)"
   ]
  },
  {
   "cell_type": "code",
   "execution_count": 31,
   "id": "66bb9123",
   "metadata": {},
   "outputs": [
    {
     "data": {
      "text/plain": [
       "array([331143.53196626, 565193.97960597, 589554.74107517, ...,\n",
       "       620202.71163027, 662704.89045277, 578685.59594962])"
      ]
     },
     "execution_count": 31,
     "metadata": {},
     "output_type": "execute_result"
    }
   ],
   "source": [
    "y_pred = lr.predict(x_test)\n",
    "y_pred"
   ]
  },
  {
   "cell_type": "code",
   "execution_count": 32,
   "id": "4508b9f3",
   "metadata": {},
   "outputs": [
    {
     "data": {
      "text/plain": [
       "113905.75473833713"
      ]
     },
     "execution_count": 32,
     "metadata": {},
     "output_type": "execute_result"
    }
   ],
   "source": [
    "#Checking the MeanAbsolute Error\n",
    "mean_absolute_error(y_test,y_pred)"
   ]
  },
  {
   "cell_type": "code",
   "execution_count": 33,
   "id": "fd9e2c7c",
   "metadata": {},
   "outputs": [
    {
     "data": {
      "text/plain": [
       "20580037259.990955"
      ]
     },
     "execution_count": 33,
     "metadata": {},
     "output_type": "execute_result"
    }
   ],
   "source": [
    "#Checking the Mean Squared Error\n",
    "mean_squared_error(y_test,y_pred)"
   ]
  },
  {
   "cell_type": "code",
   "execution_count": 34,
   "id": "ed6d097d",
   "metadata": {},
   "outputs": [
    {
     "data": {
      "text/plain": [
       "143457.4405877609"
      ]
     },
     "execution_count": 34,
     "metadata": {},
     "output_type": "execute_result"
    }
   ],
   "source": [
    "np.sqrt(mean_squared_error(y_test,y_pred))"
   ]
  },
  {
   "cell_type": "code",
   "execution_count": 35,
   "id": "7737939e",
   "metadata": {},
   "outputs": [
    {
     "data": {
      "text/plain": [
       "LassoCV(normalize=True)"
      ]
     },
     "execution_count": 35,
     "metadata": {},
     "output_type": "execute_result"
    }
   ],
   "source": [
    "#Applyiing Lasso \n",
    "lacv = LassoCV(alphas = None, max_iter = 1000,normalize = True)\n",
    "lacv.fit(x_train,y_train)"
   ]
  },
  {
   "cell_type": "code",
   "execution_count": 36,
   "id": "2019c7c2",
   "metadata": {},
   "outputs": [
    {
     "data": {
      "text/plain": [
       "9.023737398665524"
      ]
     },
     "execution_count": 36,
     "metadata": {},
     "output_type": "execute_result"
    }
   ],
   "source": [
    "alpha = lacv.alpha_\n",
    "alpha"
   ]
  },
  {
   "cell_type": "code",
   "execution_count": 37,
   "id": "43583932",
   "metadata": {},
   "outputs": [
    {
     "data": {
      "text/plain": [
       "Lasso(alpha=9.023737398665524)"
      ]
     },
     "execution_count": 37,
     "metadata": {},
     "output_type": "execute_result"
    }
   ],
   "source": [
    "#Applying Ridge \n",
    "las_reg = Lasso(alpha)\n",
    "las_reg.fit(x_train,y_train)"
   ]
  },
  {
   "cell_type": "code",
   "execution_count": 38,
   "id": "33d4855b",
   "metadata": {},
   "outputs": [
    {
     "data": {
      "text/plain": [
       "0.4265446838531447"
      ]
     },
     "execution_count": 38,
     "metadata": {},
     "output_type": "execute_result"
    }
   ],
   "source": [
    "las_reg.score(x_test,y_test)"
   ]
  },
  {
   "cell_type": "code",
   "execution_count": 39,
   "id": "d49eb5c5",
   "metadata": {},
   "outputs": [
    {
     "data": {
      "text/plain": [
       "RidgeCV(alphas=array([0.001, 0.011, 0.021, 0.031, 0.041, 0.051, 0.061, 0.071, 0.081,\n",
       "       0.091]),\n",
       "        normalize=True)"
      ]
     },
     "execution_count": 39,
     "metadata": {},
     "output_type": "execute_result"
    }
   ],
   "source": [
    "ridcv = RidgeCV(alphas = np.arange(0.001,0.1,0.01),normalize = True)\n",
    "ridcv.fit(x_train,y_train)"
   ]
  },
  {
   "cell_type": "code",
   "execution_count": 40,
   "id": "0de2743e",
   "metadata": {},
   "outputs": [
    {
     "data": {
      "text/plain": [
       "Ridge(alpha=0.001)"
      ]
     },
     "execution_count": 40,
     "metadata": {},
     "output_type": "execute_result"
    }
   ],
   "source": [
    "rd = Ridge(alpha = ridcv.alpha_)\n",
    "rd.fit(x_train,y_train)"
   ]
  },
  {
   "cell_type": "code",
   "execution_count": 41,
   "id": "474c1d45",
   "metadata": {},
   "outputs": [
    {
     "data": {
      "text/plain": [
       "0.4265607192883345"
      ]
     },
     "execution_count": 41,
     "metadata": {},
     "output_type": "execute_result"
    }
   ],
   "source": [
    "rd.score(x_test,y_test)"
   ]
  },
  {
   "cell_type": "code",
   "execution_count": 42,
   "id": "71d6121b",
   "metadata": {},
   "outputs": [
    {
     "data": {
      "text/plain": [
       "KNeighborsRegressor()"
      ]
     },
     "execution_count": 42,
     "metadata": {},
     "output_type": "execute_result"
    }
   ],
   "source": [
    "#Applying another algorithm for regression KNeighborsRegressor\n",
    "knn = KNeighborsRegressor()\n",
    "knn.fit(x_train,y_train)"
   ]
  },
  {
   "cell_type": "code",
   "execution_count": 43,
   "id": "3a7b4cee",
   "metadata": {},
   "outputs": [
    {
     "data": {
      "text/plain": [
       "0.7319415028483753"
      ]
     },
     "execution_count": 43,
     "metadata": {},
     "output_type": "execute_result"
    }
   ],
   "source": [
    "knn.score(x_train,y_train)"
   ]
  },
  {
   "cell_type": "code",
   "execution_count": 44,
   "id": "633812f0",
   "metadata": {},
   "outputs": [
    {
     "data": {
      "text/plain": [
       "0.5822556297488929"
      ]
     },
     "execution_count": 44,
     "metadata": {},
     "output_type": "execute_result"
    }
   ],
   "source": [
    "knn.score(x_test,y_test)"
   ]
  },
  {
   "cell_type": "code",
   "execution_count": 45,
   "id": "ba7e75df",
   "metadata": {},
   "outputs": [
    {
     "data": {
      "text/plain": [
       "array([319519., 362139., 493339., ..., 560779., 582179., 461879.])"
      ]
     },
     "execution_count": 45,
     "metadata": {},
     "output_type": "execute_result"
    }
   ],
   "source": [
    "y_pred = knn.predict(x_test)\n",
    "y_pred"
   ]
  },
  {
   "cell_type": "code",
   "execution_count": null,
   "id": "55dd7a8b",
   "metadata": {},
   "outputs": [],
   "source": []
  },
  {
   "cell_type": "code",
   "execution_count": null,
   "id": "7d02cb91",
   "metadata": {},
   "outputs": [],
   "source": []
  },
  {
   "cell_type": "code",
   "execution_count": null,
   "id": "11d9abdf",
   "metadata": {},
   "outputs": [],
   "source": []
  },
  {
   "cell_type": "code",
   "execution_count": null,
   "id": "7f65d45f",
   "metadata": {},
   "outputs": [],
   "source": []
  },
  {
   "cell_type": "code",
   "execution_count": null,
   "id": "5228f0db",
   "metadata": {},
   "outputs": [],
   "source": []
  },
  {
   "cell_type": "code",
   "execution_count": null,
   "id": "5b9d11e6",
   "metadata": {},
   "outputs": [],
   "source": []
  },
  {
   "cell_type": "code",
   "execution_count": null,
   "id": "2cb57b0b",
   "metadata": {},
   "outputs": [],
   "source": []
  },
  {
   "cell_type": "code",
   "execution_count": null,
   "id": "48d6d557",
   "metadata": {},
   "outputs": [],
   "source": []
  },
  {
   "cell_type": "code",
   "execution_count": null,
   "id": "220f06eb",
   "metadata": {},
   "outputs": [],
   "source": []
  },
  {
   "cell_type": "code",
   "execution_count": null,
   "id": "f026f06c",
   "metadata": {},
   "outputs": [],
   "source": []
  },
  {
   "cell_type": "code",
   "execution_count": null,
   "id": "4aaa0e48",
   "metadata": {},
   "outputs": [],
   "source": []
  },
  {
   "cell_type": "code",
   "execution_count": null,
   "id": "0256fb27",
   "metadata": {},
   "outputs": [],
   "source": []
  },
  {
   "cell_type": "code",
   "execution_count": null,
   "id": "c5639221",
   "metadata": {},
   "outputs": [],
   "source": []
  },
  {
   "cell_type": "code",
   "execution_count": null,
   "id": "f431117a",
   "metadata": {},
   "outputs": [],
   "source": []
  },
  {
   "cell_type": "code",
   "execution_count": null,
   "id": "6c9d0417",
   "metadata": {},
   "outputs": [],
   "source": []
  },
  {
   "cell_type": "code",
   "execution_count": null,
   "id": "3b52c798",
   "metadata": {},
   "outputs": [],
   "source": []
  },
  {
   "cell_type": "code",
   "execution_count": null,
   "id": "b42a47dd",
   "metadata": {},
   "outputs": [],
   "source": []
  },
  {
   "cell_type": "code",
   "execution_count": null,
   "id": "7112c158",
   "metadata": {},
   "outputs": [],
   "source": []
  },
  {
   "cell_type": "code",
   "execution_count": null,
   "id": "bed21168",
   "metadata": {},
   "outputs": [],
   "source": []
  },
  {
   "cell_type": "code",
   "execution_count": null,
   "id": "1914d0d0",
   "metadata": {},
   "outputs": [],
   "source": []
  },
  {
   "cell_type": "code",
   "execution_count": null,
   "id": "05720099",
   "metadata": {},
   "outputs": [],
   "source": []
  },
  {
   "cell_type": "code",
   "execution_count": null,
   "id": "6aa2bbb0",
   "metadata": {},
   "outputs": [],
   "source": []
  },
  {
   "cell_type": "code",
   "execution_count": null,
   "id": "df5e4ec7",
   "metadata": {},
   "outputs": [],
   "source": []
  },
  {
   "cell_type": "code",
   "execution_count": null,
   "id": "482095bf",
   "metadata": {},
   "outputs": [],
   "source": []
  },
  {
   "cell_type": "code",
   "execution_count": null,
   "id": "fcabfe25",
   "metadata": {},
   "outputs": [],
   "source": []
  },
  {
   "cell_type": "code",
   "execution_count": null,
   "id": "5676fabf",
   "metadata": {},
   "outputs": [],
   "source": []
  },
  {
   "cell_type": "code",
   "execution_count": null,
   "id": "5da17bb5",
   "metadata": {},
   "outputs": [],
   "source": []
  },
  {
   "cell_type": "code",
   "execution_count": null,
   "id": "2b597d26",
   "metadata": {},
   "outputs": [],
   "source": []
  },
  {
   "cell_type": "code",
   "execution_count": null,
   "id": "8ef73984",
   "metadata": {},
   "outputs": [],
   "source": []
  },
  {
   "cell_type": "code",
   "execution_count": null,
   "id": "68257988",
   "metadata": {},
   "outputs": [],
   "source": []
  },
  {
   "cell_type": "code",
   "execution_count": null,
   "id": "aad15e38",
   "metadata": {},
   "outputs": [],
   "source": []
  },
  {
   "cell_type": "code",
   "execution_count": null,
   "id": "57d33645",
   "metadata": {},
   "outputs": [],
   "source": []
  },
  {
   "cell_type": "code",
   "execution_count": null,
   "id": "a47f4927",
   "metadata": {},
   "outputs": [],
   "source": []
  },
  {
   "cell_type": "code",
   "execution_count": null,
   "id": "98c04421",
   "metadata": {},
   "outputs": [],
   "source": []
  },
  {
   "cell_type": "code",
   "execution_count": null,
   "id": "17d785dd",
   "metadata": {},
   "outputs": [],
   "source": []
  },
  {
   "cell_type": "code",
   "execution_count": null,
   "id": "1e4b8b0c",
   "metadata": {},
   "outputs": [],
   "source": []
  },
  {
   "cell_type": "code",
   "execution_count": null,
   "id": "577821cb",
   "metadata": {},
   "outputs": [],
   "source": []
  },
  {
   "cell_type": "code",
   "execution_count": null,
   "id": "daf59ce2",
   "metadata": {},
   "outputs": [],
   "source": []
  }
 ],
 "metadata": {
  "kernelspec": {
   "display_name": "Python 3",
   "language": "python",
   "name": "python3"
  },
  "language_info": {
   "codemirror_mode": {
    "name": "ipython",
    "version": 3
   },
   "file_extension": ".py",
   "mimetype": "text/x-python",
   "name": "python",
   "nbconvert_exporter": "python",
   "pygments_lexer": "ipython3",
   "version": "3.8.8"
  }
 },
 "nbformat": 4,
 "nbformat_minor": 5
}
